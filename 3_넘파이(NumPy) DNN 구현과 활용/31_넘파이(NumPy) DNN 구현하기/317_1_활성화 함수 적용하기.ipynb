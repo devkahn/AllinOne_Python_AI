{
 "cells": [
  {
   "cell_type": "markdown",
   "metadata": {},
   "source": [
    "# 넘파이(Numpy) DNN 구현과 활용\n",
    "## 넘파이(NumPy) DNN 구현하기\n",
    "### 활성화 함수 적용하기\n",
    "#### sigmoid 함수 적용해 보기"
   ]
  },
  {
   "cell_type": "code",
   "execution_count": 1,
   "metadata": {},
   "outputs": [],
   "source": [
    "import numpy as np\n",
    "\n",
    "# numpy의 실수 출력 방법을 변경\n",
    "# 소수점 이하 3자리까지 출력\n",
    "np.set_printoptions(formatter={'float_kind':lambda x: \"{0:6.3f}\" .format(x)})\n"
   ]
  },
  {
   "cell_type": "code",
   "execution_count": null,
   "metadata": {},
   "outputs": [],
   "source": [
    "I = np.array([[.05, .10]])\n",
    "T = np.array([[.01, .99]])\n",
    "\n",
    "WH = np.array([[.15,.25], [.20,.30]])\n",
    "BH = np.array([[.35,.35]])\n",
    "\n",
    "WO = np.array([[.40,.50],[.45,.55]])\n",
    "BO = np.array([[.60,.60]])\n",
    "\n",
    "for epoch in range(1000000):\n",
    "    print(' epoch = %d' %epoch)\n",
    "    \n",
    "    H = I @ WH + BH\n",
    "    H = 1/(1+np.exp(-H))\n",
    "    \n",
    "    O = H @ WO + BO\n",
    "    O = 1/(1+np.exp(-O))\n",
    "    print(' O = \\n', O)\n",
    "    \n",
    "    E = np.sum((O-T)**2/2)\n",
    "    print('  E = %.7f' %E)\n",
    "    if E <  0.0000001:\n",
    "        break\n",
    "    \n",
    "    Ob = O - T\n",
    "    Hb = Ob @ WO.T\n",
    "    WHb = I.T @ Hb\n",
    "    BHb = 1 * Hb\n",
    "    \n",
    "    WOb = H.T @ Ob\n",
    "    BOb = 1 *  Ob\n",
    "    print(' WHb =\\n', WHb)\n",
    "    print(' BHb =\\n', BHb)\n",
    "    print(' WOb =\\n', WOb)\n",
    "    print(' BOb =\\n', BOb)\n",
    "    \n",
    "    # lr = 0.01\n",
    "    # WH = WH - lr *  WHb\n",
    "    # BH = BH - lr *  BHb\n",
    "    # WO = WO - lr *  WOb\n",
    "    # BO = BO - lr *  BOb\n",
    "    # print(' WH =\\n', WH)\n",
    "    # print(' BH =\\n', BH)\n",
    "    # print(' WO =\\n', WO)\n",
    "    # print(' BO =\\n', BO)\n"
   ]
  }
 ],
 "metadata": {
  "kernelspec": {
   "display_name": "Python 3",
   "language": "python",
   "name": "python3"
  },
  "language_info": {
   "codemirror_mode": {
    "name": "ipython",
    "version": 3
   },
   "file_extension": ".py",
   "mimetype": "text/x-python",
   "name": "python",
   "nbconvert_exporter": "python",
   "pygments_lexer": "ipython3",
   "version": "3.10.10"
  }
 },
 "nbformat": 4,
 "nbformat_minor": 2
}
